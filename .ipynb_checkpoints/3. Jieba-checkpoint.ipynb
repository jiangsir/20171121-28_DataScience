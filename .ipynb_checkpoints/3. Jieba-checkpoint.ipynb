{
 "cells": [
  {
   "cell_type": "markdown",
   "metadata": {},
   "source": [
    "## 官方網站\n",
    "\n",
    "https://github.com/fxsjy/jieba"
   ]
  },
  {
   "cell_type": "code",
   "execution_count": 6,
   "metadata": {
    "collapsed": false
   },
   "outputs": [
    {
     "name": "stderr",
     "output_type": "stream",
     "text": [
      "Building prefix dict from /Users/jiangsir/Documents/20171121-28_DataScience/jiebaDict_dict.big.txt ...\n",
      "Loading model from cache /var/folders/38/nwfb18m540j8v7ncd4lfmbjr0000gn/T/jieba.ue2e1f51befcd2d9e931804050cdb4711.cache\n"
     ]
    },
    {
     "name": "stdout",
     "output_type": "stream",
     "text": [
      "Input=身為最多奧運金牌的紀錄保持人，美國泳將菲爾普斯在成功背後，也有著跌宕起伏的心路歷程，曾經因吸食大麻與酒駕深陷人生低潮的他，甚至動過輕生念頭。直到去年在家人與信仰的陪伴下，他重拾信心，成功再造飛魚傳奇。菲爾普斯(15歲)：「(針對游泳或人生，你有什麼期許？)嗯，就只是想游得更快一些。」15歲受訪時一句「我想游更快」，菲爾普斯做到了。他在四次奧運會中一共拿下23面金牌，傲人成績前無古人，後無來者，成為泳壇傳奇。但成功背後，菲爾普斯也有著心酸的故事。奧運游泳金牌保持人 菲爾普斯：「是的，我想說，我確實犯了些錯誤，這也是學習和成長的一部份，讓一個人變得更成熟。」\n"
     ]
    },
    {
     "name": "stderr",
     "output_type": "stream",
     "text": [
      "Loading model cost 6.306 seconds.\n",
      "Prefix dict has been built succesfully.\n"
     ]
    },
    {
     "name": "stdout",
     "output_type": "stream",
     "text": [
      "身為 | 最多 | 奧運金牌 | 的 | 紀錄 | 保持 | 人 | ， | 美國 | 泳將 | 菲爾 | 普斯 | 在 | 成功 | 背後 | ， | 也 | 有 | 著 | 跌宕起伏 | 的 | 心路歷程 | ， | 曾經 | 因 | 吸食 | 大麻 | 與 | 酒 | 駕 | 深陷 | 人生 | 低潮 | 的 | 他 | ， | 甚至 | 動過 | 輕生 | 念頭 | 。 | 直到 | 去年 | 在 | 家人 | 與 | 信仰 | 的 | 陪伴 | 下 | ， | 他 | 重拾 | 信心 | ， | 成功 | 再造 | 飛魚 | 傳奇 | 。 | 菲爾 | 普斯 | ( | 15 | 歲 | ) | ： | 「 | ( | 針對 | 游泳 | 或 | 人生 | ， | 你 | 有 | 什麼 | 期許 | ？ | ) | 嗯 | ， | 就 | 只是 | 想游 | 得 | 更 | 快 | 一些 | 。 | 」 | 15 | 歲 | 受訪 | 時 | 一句 | 「 | 我想游 | 更 | 快 | 」 | ， | 菲爾 | 普斯 | 做到 | 了 | 。 | 他 | 在 | 四次 | 奧運會 | 中 | 一共 | 拿下 | 23 | 面 | 金牌 | ， | 傲人 | 成績 | 前無古人 | ， | 後無來者 | ， | 成為 | 泳壇 | 傳奇 | 。 | 但 | 成功 | 背後 | ， | 菲爾 | 普斯 | 也 | 有 | 著 | 心酸 | 的 | 故事 | 。 | 奧運 | 游泳 | 金牌 | 保持 | 人 |   | 菲爾 | 普斯 | ： | 「 | 是 | 的 | ， | 我 | 想 | 說 | ， | 我 | 確實 | 犯 | 了 | 些 | 錯誤 | ， | 這也 | 是 | 學習 | 和 | 成長 | 的 | 一部 | 份 | ， | 讓 | 一個 | 人 | 變得 | 更 | 成熟 | 。 | 」\n"
     ]
    }
   ],
   "source": [
    "import jieba\n",
    "jieba.set_dictionary('jiebaDict_dict.big.txt')\n",
    "string = \"身為最多奧運金牌的紀錄保持人，美國泳將菲爾普斯在成功背後，也有著跌宕起伏的心路歷程，曾經因吸食大麻與酒駕深陷人生低潮的他，甚至動過輕生念頭。直到去年在家人與信仰的陪伴下，他重拾信心，成功再造飛魚傳奇。菲爾普斯(15歲)：「(針對游泳或人生，你有什麼期許？)嗯，就只是想游得更快一些。」15歲受訪時一句「我想游更快」，菲爾普斯做到了。他在四次奧運會中一共拿下23面金牌，傲人成績前無古人，後無來者，成為泳壇傳奇。但成功背後，菲爾普斯也有著心酸的故事。奧運游泳金牌保持人 菲爾普斯：「是的，我想說，我確實犯了些錯誤，這也是學習和成長的一部份，讓一個人變得更成熟。」\"\n",
    "print(\"Input=\" + string)\n",
    "words = jieba.cut(string, cut_all=False)\n",
    "print(' | '.join(words))\n",
    "for word in words:\n",
    "    print(\" | \"+word, end=\"\")\n",
    "    "
   ]
  },
  {
   "cell_type": "code",
   "execution_count": 7,
   "metadata": {
    "collapsed": false
   },
   "outputs": [
    {
     "ename": "Exception",
     "evalue": "jieba: file does not exist: /Users/jiangsir/Documents/20171121-28_DataScience/dict.txt.big",
     "output_type": "error",
     "traceback": [
      "\u001b[0;31m---------------------------------------------------------------------------\u001b[0m",
      "\u001b[0;31mException\u001b[0m                                 Traceback (most recent call last)",
      "\u001b[0;32m<ipython-input-7-d3bc66706985>\u001b[0m in \u001b[0;36m<module>\u001b[0;34m()\u001b[0m\n\u001b[1;32m      1\u001b[0m \u001b[0;32mimport\u001b[0m \u001b[0mjieba\u001b[0m\u001b[0;34m\u001b[0m\u001b[0m\n\u001b[1;32m      2\u001b[0m \u001b[0;32mimport\u001b[0m \u001b[0mjson\u001b[0m\u001b[0;34m\u001b[0m\u001b[0m\n\u001b[0;32m----> 3\u001b[0;31m \u001b[0mjieba\u001b[0m\u001b[0;34m.\u001b[0m\u001b[0mset_dictionary\u001b[0m\u001b[0;34m(\u001b[0m\u001b[0;34m'dict.txt.big'\u001b[0m\u001b[0;34m)\u001b[0m\u001b[0;34m\u001b[0m\u001b[0m\n\u001b[0m\u001b[1;32m      4\u001b[0m \u001b[0mstring\u001b[0m \u001b[0;34m=\u001b[0m \u001b[0;34m\"幾個星期來台灣主權歸屬問題再度成為熱門話題，盡忠職守的中華民國國史館林滿紅館長認為1952年在台北簽訂的《中日和約》有足夠條文說明台澎主權轉移給中華民國，而呂前副總統則認為日本在1951年舊金山和約已經向同盟國放棄台澎主權（中華民國因代表權問題未獲參加），因此1952年日本再也沒有台澎主權可以轉移給中華民國。台澎主權歸屬問題一直是統獨論戰的重要議題，現在又成為台灣傑出、哈佛出身的兩位女性領袖的論爭。林館長服務於中研院時，筆者有機會多次與他交談，得知他的論點。筆者雖然尊重他的專業，但是覺得日本早在1972年就已聲明終止該雙邊和約，現在世界上除了中華民國政府還緊抱著這條約不放之外，大概找不到其他國家關心它。因科技事務開會，有機會在總統府和台北賓館，公餘多次聽到呂前副總統暢談台澎主權歸屬，筆者很欣賞他深入問題，思考邏輯嚴謹，因而論點很具說服力，況且筆者也懷疑無條件投降的戰敗國日本，1952年時本身國家難保，哪還有權利代表同盟國轉移任何主權。呂強調1945年聯合國成立，既然聯合國憲章強調人民平等權利及自決原則，所以未定的台澎主權歸屬應該由台澎居民自決。台灣主權歸屬論戰其實侷限於台灣政治人物，沒有幾個外國人關心。筆者認為採用國際條約或國際法來決定主權歸屬的爭論，沒有多大意義，也不會有什麼效果，1972年日本片面終止《中日和約》不就是最好的例子。 歷史上各國因權宜之計訂約與毀約，而且所謂的條約和國際法多半是按照超強大國(super powers)的利益訂定，新興國家的主權和領土的劃分還不都是這些國家為了保持勢力平衡的產物，聯合國憲章僅是遠程理想，自決也只是原則而已。就像東帝汶，人民要自決，台灣要主權，唯一途徑是長期激烈抗爭，以引起國際注意，最後由於列強擔心世界秩序被破壞，伸出援手解決主權爭議。\"\u001b[0m\u001b[0;34m\u001b[0m\u001b[0m\n\u001b[1;32m      5\u001b[0m \u001b[0;31m#print(\"Input=\" + string)\u001b[0m\u001b[0;34m\u001b[0m\u001b[0;34m\u001b[0m\u001b[0m\n",
      "\u001b[0;32m/Users/jiangsir/anaconda/lib/python3.5/site-packages/jieba/__init__.py\u001b[0m in \u001b[0;36mset_dictionary\u001b[0;34m(self, dictionary_path)\u001b[0m\n\u001b[1;32m    485\u001b[0m             \u001b[0mabs_path\u001b[0m \u001b[0;34m=\u001b[0m \u001b[0m_get_abs_path\u001b[0m\u001b[0;34m(\u001b[0m\u001b[0mdictionary_path\u001b[0m\u001b[0;34m)\u001b[0m\u001b[0;34m\u001b[0m\u001b[0m\n\u001b[1;32m    486\u001b[0m             \u001b[0;32mif\u001b[0m \u001b[0;32mnot\u001b[0m \u001b[0mos\u001b[0m\u001b[0;34m.\u001b[0m\u001b[0mpath\u001b[0m\u001b[0;34m.\u001b[0m\u001b[0misfile\u001b[0m\u001b[0;34m(\u001b[0m\u001b[0mabs_path\u001b[0m\u001b[0;34m)\u001b[0m\u001b[0;34m:\u001b[0m\u001b[0;34m\u001b[0m\u001b[0m\n\u001b[0;32m--> 487\u001b[0;31m                 \u001b[0;32mraise\u001b[0m \u001b[0mException\u001b[0m\u001b[0;34m(\u001b[0m\u001b[0;34m\"jieba: file does not exist: \"\u001b[0m \u001b[0;34m+\u001b[0m \u001b[0mabs_path\u001b[0m\u001b[0;34m)\u001b[0m\u001b[0;34m\u001b[0m\u001b[0m\n\u001b[0m\u001b[1;32m    488\u001b[0m             \u001b[0mself\u001b[0m\u001b[0;34m.\u001b[0m\u001b[0mdictionary\u001b[0m \u001b[0;34m=\u001b[0m \u001b[0mabs_path\u001b[0m\u001b[0;34m\u001b[0m\u001b[0m\n\u001b[1;32m    489\u001b[0m             \u001b[0mself\u001b[0m\u001b[0;34m.\u001b[0m\u001b[0minitialized\u001b[0m \u001b[0;34m=\u001b[0m \u001b[0;32mFalse\u001b[0m\u001b[0;34m\u001b[0m\u001b[0m\n",
      "\u001b[0;31mException\u001b[0m: jieba: file does not exist: /Users/jiangsir/Documents/20171121-28_DataScience/dict.txt.big"
     ]
    }
   ],
   "source": [
    "import jieba\n",
    "import json\n",
    "jieba.set_dictionary('jiebaDict_dict.big.txt')\n",
    "string = \"幾個星期來台灣主權歸屬問題再度成為熱門話題，盡忠職守的中華民國國史館林滿紅館長認為1952年在台北簽訂的《中日和約》有足夠條文說明台澎主權轉移給中華民國，而呂前副總統則認為日本在1951年舊金山和約已經向同盟國放棄台澎主權（中華民國因代表權問題未獲參加），因此1952年日本再也沒有台澎主權可以轉移給中華民國。台澎主權歸屬問題一直是統獨論戰的重要議題，現在又成為台灣傑出、哈佛出身的兩位女性領袖的論爭。林館長服務於中研院時，筆者有機會多次與他交談，得知他的論點。筆者雖然尊重他的專業，但是覺得日本早在1972年就已聲明終止該雙邊和約，現在世界上除了中華民國政府還緊抱著這條約不放之外，大概找不到其他國家關心它。因科技事務開會，有機會在總統府和台北賓館，公餘多次聽到呂前副總統暢談台澎主權歸屬，筆者很欣賞他深入問題，思考邏輯嚴謹，因而論點很具說服力，況且筆者也懷疑無條件投降的戰敗國日本，1952年時本身國家難保，哪還有權利代表同盟國轉移任何主權。呂強調1945年聯合國成立，既然聯合國憲章強調人民平等權利及自決原則，所以未定的台澎主權歸屬應該由台澎居民自決。台灣主權歸屬論戰其實侷限於台灣政治人物，沒有幾個外國人關心。筆者認為採用國際條約或國際法來決定主權歸屬的爭論，沒有多大意義，也不會有什麼效果，1972年日本片面終止《中日和約》不就是最好的例子。 歷史上各國因權宜之計訂約與毀約，而且所謂的條約和國際法多半是按照超強大國(super powers)的利益訂定，新興國家的主權和領土的劃分還不都是這些國家為了保持勢力平衡的產物，聯合國憲章僅是遠程理想，自決也只是原則而已。就像東帝汶，人民要自決，台灣要主權，唯一途徑是長期激烈抗爭，以引起國際注意，最後由於列強擔心世界秩序被破壞，伸出援手解決主權爭議。\"\n",
    "#print(\"Input=\" + string)\n",
    "words = jieba.cut(string, cut_all=False)\n",
    "hash = {}\n",
    "for item in words:\n",
    "    if item in hash:\n",
    "        hash[item] +=1\n",
    "    else:\n",
    "        hash[item] = 1    \n",
    "fd = open(\"count.csv\", \"w\")\n",
    "fd.write(\"word, count\\n\")\n",
    "list = sorted(hash.items(), key=lambda d:d[1], reverse=True)\n",
    "for l in list:\n",
    "    print(l)\n"
   ]
  }
 ],
 "metadata": {
  "kernelspec": {
   "display_name": "Python 3",
   "language": "python",
   "name": "python3"
  },
  "language_info": {
   "codemirror_mode": {
    "name": "ipython",
    "version": 3
   },
   "file_extension": ".py",
   "mimetype": "text/x-python",
   "name": "python",
   "nbconvert_exporter": "python",
   "pygments_lexer": "ipython3",
   "version": "3.5.1"
  }
 },
 "nbformat": 4,
 "nbformat_minor": 0
}
